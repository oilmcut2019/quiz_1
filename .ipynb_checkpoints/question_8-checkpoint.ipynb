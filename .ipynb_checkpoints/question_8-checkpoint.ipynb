{
 "cells": [
  {
   "cell_type": "markdown",
   "metadata": {},
   "source": [
    "Question_8\n",
    "\n",
    "英文: create variable x assign the value 20, print output = class 'str'<br>\n",
    "中文: 建立一變數x，指定此變數的值為字串\"20\",請印出此變數的資料型態。\n",
    "\n",
    "\n",
    "Input   | Output |\n",
    "--------|--------|\n",
    "(No)    | <class 'str'> |"
   ]
  },
  {
   "cell_type": "code",
   "execution_count": null,
   "metadata": {},
   "outputs": [],
   "source": []
  }
 ],
 "metadata": {
  "kernelspec": {
   "display_name": "Python 3",
   "language": "python",
   "name": "python3"
  },
  "language_info": {
   "codemirror_mode": {
    "name": "ipython",
    "version": 3
   },
   "file_extension": ".py",
   "mimetype": "text/x-python",
   "name": "python",
   "nbconvert_exporter": "python",
   "pygments_lexer": "ipython3",
   "version": "3.6.7"
  }
 },
 "nbformat": 4,
 "nbformat_minor": 2
}
