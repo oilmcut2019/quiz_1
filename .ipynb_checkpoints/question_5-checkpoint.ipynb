{
 "cells": [
  {
   "cell_type": "markdown",
   "metadata": {},
   "source": [
    "Question_5\n",
    "\n",
    "英文: make a variable x = 5 and y=\"python\" than print the output \"pythonpythonpythonpythonpython\"<br>\n",
    "中文: 建立x、y兩個變數，指定x變數的值為5、y變數的值為 \"python\"，請將 y 變數印出 x 次 \"pythonpythonpythonpythonpython\"。\n",
    "\n",
    "\n",
    "Input   | Output |\n",
    "--------|--------|\n",
    "(No)    | pythonpythonpythonpythonpython |"
   ]
  },
  {
   "cell_type": "code",
   "execution_count": null,
   "metadata": {},
   "outputs": [],
   "source": []
  }
 ],
 "metadata": {
  "kernelspec": {
   "display_name": "Python 3",
   "language": "python",
   "name": "python3"
  },
  "language_info": {
   "codemirror_mode": {
    "name": "ipython",
    "version": 3
   },
   "file_extension": ".py",
   "mimetype": "text/x-python",
   "name": "python",
   "nbconvert_exporter": "python",
   "pygments_lexer": "ipython3",
   "version": "3.6.7"
  }
 },
 "nbformat": 4,
 "nbformat_minor": 2
}
