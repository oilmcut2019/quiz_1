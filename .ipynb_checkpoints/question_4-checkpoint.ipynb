{
 "cells": [
  {
   "cell_type": "markdown",
   "metadata": {
    "collapsed": true
   },
   "source": [
    "Question_4\n",
    "\n",
    "英文: create varibale x and y and assign the value of the varible is 5 and 10. print output \"2\"<br>\n",
    "中文: 建立x、y兩個變數，指定x變數的值為5、y變數的值為10，請輸出y除以x的商 \"2\"。\n",
    "\n",
    "\n",
    "Input   | Output |\n",
    "--------|--------|\n",
    "(No)    | 2      |"
   ]
  },
  {
   "cell_type": "code",
   "execution_count": null,
   "metadata": {},
   "outputs": [],
   "source": []
  }
 ],
 "metadata": {
  "kernelspec": {
   "display_name": "Python 3",
   "language": "python",
   "name": "python3"
  },
  "language_info": {
   "codemirror_mode": {
    "name": "ipython",
    "version": 3
   },
   "file_extension": ".py",
   "mimetype": "text/x-python",
   "name": "python",
   "nbconvert_exporter": "python",
   "pygments_lexer": "ipython3",
   "version": "3.6.7"
  }
 },
 "nbformat": 4,
 "nbformat_minor": 2
}
